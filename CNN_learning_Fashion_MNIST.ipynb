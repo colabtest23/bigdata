{
  "nbformat": 4,
  "nbformat_minor": 0,
  "metadata": {
    "colab": {
      "name": "CNN_learning_Fashion-MNIST.ipynb",
      "version": "0.3.2",
      "provenance": []
    },
    "kernelspec": {
      "name": "python3",
      "display_name": "Python 3"
    },
    "accelerator": "GPU"
  },
  "cells": [
    {
      "cell_type": "markdown",
      "metadata": {
        "id": "view-in-github",
        "colab_type": "text"
      },
      "source": [
        "[View in Colaboratory](https://colab.research.google.com/github/colabtest23/bigdata/blob/keras/CNN_learning_Fashion_MNIST.ipynb)"
      ]
    },
    {
      "metadata": {
        "id": "YNO6ZHgPff8a",
        "colab_type": "text"
      },
      "cell_type": "markdown",
      "source": [
        "Fashion-MNIST is a dataset of Zalando's article images—consisting of a training set of 60,000 examples and a test set of 10,000 examples. Each example is a 28x28 grayscale image, associated with a label from 10 classes.  \n",
        "Each training and test example is assigned to one of the following labels:\n",
        "    0 T-shirt/top\n",
        "    1 Trouser\n",
        "    2 Pullover\n",
        "    3 Dress\n",
        "    4 Coat\n",
        "    5 Sandal\n",
        "    6 Shirt\n",
        "    7 Sneaker\n",
        "    8 Bag\n",
        "    9 Ankle boot \n",
        "Each image is 28 pixels in height and 28 pixels in width, for a total of 784 pixels in total. Each pixel has a single pixel-value associated with it, indicating the lightness or darkness of that pixel, with higher numbers meaning darker. This pixel-value is an integer between 0 and 255. \n",
        "\n",
        "**Learning Approach**: In this experiment objective is to try different models and compare their results. \n",
        "\n",
        "*   *Model 1*:  CNN with 1 Convolutional Layer and includes dropout parameter\n",
        "*   *Model 1a*: Model 1 post Image augmentation\n",
        "\n",
        "\n",
        "*   *Model 2*:  CNN with 3 Convolutional Layer and includes dropout parameter\n",
        "*   *Model 2a*: Model 2 post Image augmentation"
      ]
    },
    {
      "metadata": {
        "id": "F4qPneTqfuAK",
        "colab_type": "code",
        "colab": {
          "base_uri": "https://localhost:8080/",
          "height": 36
        },
        "outputId": "40b2b412-837c-4eac-a061-737e6408481b"
      },
      "cell_type": "code",
      "source": [
        "# Libraries\n",
        "#Basic\n",
        "import numpy as np\n",
        "import pandas as pd\n",
        "\n",
        "#Keras for NN\n",
        "import keras\n",
        "from keras.datasets import mnist\n",
        "from keras.models import Sequential\n",
        "from keras.layers import Dense, Dropout, Flatten, Lambda\n",
        "from keras.layers import Conv2D, MaxPooling2D, BatchNormalization\n",
        "from keras.optimizers import Adam\n",
        "\n",
        "#Image generator\n",
        "from keras.preprocessing.image import ImageDataGenerator\n",
        "\n",
        "#Image handling\n",
        "import matplotlib.pyplot as plt\n",
        "import matplotlib.image as mpimg\n",
        "\n",
        "\n",
        "# Fashion-mnist data loader.\n",
        "from keras.datasets import fashion_mnist\n",
        "\n",
        "from sklearn.model_selection import train_test_split\n",
        "\n",
        "np.random.seed(231)\n",
        "%matplotlib inline\n"
      ],
      "execution_count": 0,
      "outputs": [
        {
          "output_type": "stream",
          "text": [
            "Using TensorFlow backend.\n"
          ],
          "name": "stderr"
        }
      ]
    },
    {
      "metadata": {
        "id": "ijTAoUu1gnNg",
        "colab_type": "code",
        "colab": {}
      },
      "cell_type": "code",
      "source": [
        "batch_size = 512"
      ],
      "execution_count": 0,
      "outputs": []
    },
    {
      "metadata": {
        "id": "zAXPBG8gg2K6",
        "colab_type": "code",
        "colab": {}
      },
      "cell_type": "code",
      "source": [
        "# Load data\n",
        "(X_train_orig ,y_train_orig ), (X_test ,y_test ) = fashion_mnist.load_data()"
      ],
      "execution_count": 0,
      "outputs": []
    },
    {
      "metadata": {
        "id": "fIyxt41Nhgb4",
        "colab_type": "code",
        "colab": {
          "base_uri": "https://localhost:8080/",
          "height": 55
        },
        "outputId": "73c8d07c-3c7a-4f2a-b7bd-4589d10fbed1"
      },
      "cell_type": "code",
      "source": [
        "print('Training data shape : ', X_train_orig.shape, y_train_orig.shape)\n",
        "\n",
        "print('Testing data shape : ', X_test.shape, y_test.shape)"
      ],
      "execution_count": 0,
      "outputs": [
        {
          "output_type": "stream",
          "text": [
            "Training data shape :  (60000, 28, 28) (60000,)\n",
            "Testing data shape :  (10000, 28, 28) (10000,)\n"
          ],
          "name": "stdout"
        }
      ]
    },
    {
      "metadata": {
        "id": "mIbPjSeGi7_u",
        "colab_type": "code",
        "colab": {}
      },
      "cell_type": "code",
      "source": [
        "X_train, X_val, y_train, y_val = train_test_split(X_train_orig, y_train_orig, test_size=0.2, random_state=231)\n"
      ],
      "execution_count": 0,
      "outputs": []
    },
    {
      "metadata": {
        "id": "IEQuxEt3jO9q",
        "colab_type": "code",
        "colab": {
          "base_uri": "https://localhost:8080/",
          "height": 92
        },
        "outputId": "b679cc12-4e7e-4a2c-8cd3-58cb6e0c61e1"
      },
      "cell_type": "code",
      "source": [
        "print(X_train.shape)\n",
        "print(y_train.shape)\n",
        "print(X_val.shape)\n",
        "print(y_val.shape)\n"
      ],
      "execution_count": 0,
      "outputs": [
        {
          "output_type": "stream",
          "text": [
            "(48000, 28, 28)\n",
            "(48000,)\n",
            "(12000, 28, 28)\n",
            "(12000,)\n"
          ],
          "name": "stdout"
        }
      ]
    },
    {
      "metadata": {
        "id": "ZvqtqhDnj9Ws",
        "colab_type": "code",
        "colab": {}
      },
      "cell_type": "code",
      "source": [
        "img_rows = 28\n",
        "img_cols = 28\n",
        "input_shape = (img_rows, img_cols, 1)\n",
        "X_train = X_train.reshape(X_train.shape[0], img_rows, img_cols, 1)\n",
        "X_test = X_test.reshape(X_test.shape[0], img_rows, img_cols, 1)\n",
        "X_val = X_val.reshape(X_val.shape[0], img_rows, img_cols, 1)\n"
      ],
      "execution_count": 0,
      "outputs": []
    },
    {
      "metadata": {
        "id": "gZjhIuLSq1dW",
        "colab_type": "code",
        "colab": {}
      },
      "cell_type": "code",
      "source": [
        "cnn1 = Sequential([\n",
        "    Conv2D(32, kernel_size=(3, 3), activation='relu', input_shape=input_shape),\n",
        "    MaxPooling2D(pool_size=(2, 2)),\n",
        "    Dropout(0.2),#Prevents overfitting\n",
        "    Flatten(),\n",
        "    Dense(128, activation='relu'),\n",
        "    Dense(10, activation='softmax')\n",
        "])\n"
      ],
      "execution_count": 0,
      "outputs": []
    },
    {
      "metadata": {
        "id": "HJJc6ENdq8oO",
        "colab_type": "code",
        "colab": {}
      },
      "cell_type": "code",
      "source": [
        "cnn1.compile(loss='sparse_categorical_crossentropy',\n",
        "              optimizer=Adam(lr=0.001),\n",
        "              metrics=['accuracy'])\n"
      ],
      "execution_count": 0,
      "outputs": []
    },
    {
      "metadata": {
        "id": "9Mk6pqo47vYw",
        "colab_type": "code",
        "colab": {
          "base_uri": "https://localhost:8080/",
          "height": 375
        },
        "outputId": "132f67b0-e2dc-4d6f-8141-b31b78576342"
      },
      "cell_type": "code",
      "source": [
        "cnn1.summary()"
      ],
      "execution_count": 0,
      "outputs": [
        {
          "output_type": "stream",
          "text": [
            "_________________________________________________________________\n",
            "Layer (type)                 Output Shape              Param #   \n",
            "=================================================================\n",
            "conv2d_1 (Conv2D)            (None, 26, 26, 32)        320       \n",
            "_________________________________________________________________\n",
            "max_pooling2d_1 (MaxPooling2 (None, 13, 13, 32)        0         \n",
            "_________________________________________________________________\n",
            "dropout_1 (Dropout)          (None, 13, 13, 32)        0         \n",
            "_________________________________________________________________\n",
            "flatten_1 (Flatten)          (None, 5408)              0         \n",
            "_________________________________________________________________\n",
            "dense_1 (Dense)              (None, 128)               692352    \n",
            "_________________________________________________________________\n",
            "dense_2 (Dense)              (None, 10)                1290      \n",
            "=================================================================\n",
            "Total params: 693,962\n",
            "Trainable params: 693,962\n",
            "Non-trainable params: 0\n",
            "_________________________________________________________________\n"
          ],
          "name": "stdout"
        }
      ]
    },
    {
      "metadata": {
        "id": "1HJEjEf_q-4e",
        "colab_type": "code",
        "colab": {
          "base_uri": "https://localhost:8080/",
          "height": 413
        },
        "outputId": "71df2975-e8d7-4240-8e16-22cb441ccbac"
      },
      "cell_type": "code",
      "source": [
        "cnn1_metrics = cnn1.fit(X_train, y_train,\n",
        "                        batch_size=batch_size,\n",
        "                        epochs=10,\n",
        "                        verbose=1,\n",
        "                        validation_data=(X_val, y_val))\n"
      ],
      "execution_count": 0,
      "outputs": [
        {
          "output_type": "stream",
          "text": [
            "Train on 48000 samples, validate on 12000 samples\n",
            "Epoch 1/10\n",
            "48000/48000 [==============================] - 4s 76us/step - loss: 11.4950 - acc: 0.2858 - val_loss: 11.3497 - val_acc: 0.2954\n",
            "Epoch 2/10\n",
            "48000/48000 [==============================] - 2s 43us/step - loss: 11.3835 - acc: 0.2935 - val_loss: 11.3381 - val_acc: 0.2963\n",
            "Epoch 3/10\n",
            "48000/48000 [==============================] - 2s 43us/step - loss: 10.9604 - acc: 0.3194 - val_loss: 10.1788 - val_acc: 0.3675\n",
            "Epoch 4/10\n",
            "48000/48000 [==============================] - 2s 43us/step - loss: 8.5717 - acc: 0.4651 - val_loss: 7.0179 - val_acc: 0.5605\n",
            "Epoch 5/10\n",
            "48000/48000 [==============================] - 2s 43us/step - loss: 7.0074 - acc: 0.5610 - val_loss: 6.8061 - val_acc: 0.5741\n",
            "Epoch 6/10\n",
            "48000/48000 [==============================] - 2s 43us/step - loss: 6.6053 - acc: 0.5782 - val_loss: 5.1974 - val_acc: 0.6566\n",
            "Epoch 7/10\n",
            " 6656/48000 [===>..........................] - ETA: 1s - loss: 4.6419 - acc: 0.6761"
          ],
          "name": "stdout"
        },
        {
          "output_type": "stream",
          "text": [
            "48000/48000 [==============================] - 2s 43us/step - loss: 1.4721 - acc: 0.7961 - val_loss: 0.3776 - val_acc: 0.8661\n",
            "Epoch 8/10\n",
            "48000/48000 [==============================] - 2s 43us/step - loss: 0.3288 - acc: 0.8831 - val_loss: 0.3208 - val_acc: 0.8898\n",
            "Epoch 9/10\n",
            "48000/48000 [==============================] - 2s 43us/step - loss: 0.2693 - acc: 0.8999 - val_loss: 0.3058 - val_acc: 0.8933\n",
            "Epoch 10/10\n",
            "48000/48000 [==============================] - 2s 43us/step - loss: 0.2342 - acc: 0.9132 - val_loss: 0.2985 - val_acc: 0.8977\n"
          ],
          "name": "stdout"
        }
      ]
    },
    {
      "metadata": {
        "id": "nYLKaQr1rFsW",
        "colab_type": "code",
        "colab": {}
      },
      "cell_type": "code",
      "source": [
        "cnn1.optimizer.lr = 0.0001\n"
      ],
      "execution_count": 0,
      "outputs": []
    },
    {
      "metadata": {
        "id": "JDtjA_PnrH84",
        "colab_type": "code",
        "colab": {
          "base_uri": "https://localhost:8080/",
          "height": 432
        },
        "outputId": "fbbd63fd-4d20-4c56-f379-075e9e363145"
      },
      "cell_type": "code",
      "source": [
        "cnn1.fit(X_train, y_train,\n",
        "          batch_size=batch_size,\n",
        "          epochs=10,\n",
        "          verbose=1,\n",
        "          validation_data=(X_val, y_val))\n"
      ],
      "execution_count": 0,
      "outputs": [
        {
          "output_type": "stream",
          "text": [
            "Train on 48000 samples, validate on 12000 samples\n",
            "Epoch 1/10\n",
            "48000/48000 [==============================] - 2s 43us/step - loss: 0.2069 - acc: 0.9220 - val_loss: 0.2981 - val_acc: 0.8982\n",
            "Epoch 2/10\n",
            "48000/48000 [==============================] - 2s 42us/step - loss: 0.1906 - acc: 0.9279 - val_loss: 0.2939 - val_acc: 0.9003\n",
            "Epoch 3/10\n",
            "48000/48000 [==============================] - 2s 42us/step - loss: 0.1719 - acc: 0.9336 - val_loss: 0.2942 - val_acc: 0.8995\n",
            "Epoch 4/10\n",
            "48000/48000 [==============================] - 2s 43us/step - loss: 0.1575 - acc: 0.9405 - val_loss: 0.3075 - val_acc: 0.9021\n",
            "Epoch 5/10\n",
            "48000/48000 [==============================] - 2s 43us/step - loss: 0.1438 - acc: 0.9456 - val_loss: 0.3049 - val_acc: 0.9017\n",
            "Epoch 6/10\n",
            "48000/48000 [==============================] - 2s 43us/step - loss: 0.1343 - acc: 0.9504 - val_loss: 0.3241 - val_acc: 0.9015\n",
            "Epoch 7/10\n",
            " 8192/48000 [====>.........................] - ETA: 1s - loss: 0.1219 - acc: 0.9540"
          ],
          "name": "stdout"
        },
        {
          "output_type": "stream",
          "text": [
            "48000/48000 [==============================] - 2s 43us/step - loss: 0.1212 - acc: 0.9537 - val_loss: 0.3295 - val_acc: 0.9032\n",
            "Epoch 8/10\n",
            "48000/48000 [==============================] - 2s 43us/step - loss: 0.1143 - acc: 0.9578 - val_loss: 0.3358 - val_acc: 0.8981\n",
            "Epoch 9/10\n",
            "48000/48000 [==============================] - 2s 43us/step - loss: 0.1070 - acc: 0.9605 - val_loss: 0.3491 - val_acc: 0.9023\n",
            "Epoch 10/10\n",
            "48000/48000 [==============================] - 2s 43us/step - loss: 0.1013 - acc: 0.9619 - val_loss: 0.3549 - val_acc: 0.9015\n"
          ],
          "name": "stdout"
        },
        {
          "output_type": "execute_result",
          "data": {
            "text/plain": [
              "<keras.callbacks.History at 0x7efc967d6160>"
            ]
          },
          "metadata": {
            "tags": []
          },
          "execution_count": 13
        }
      ]
    },
    {
      "metadata": {
        "id": "Tt0FfgGmrK3s",
        "colab_type": "code",
        "colab": {
          "base_uri": "https://localhost:8080/",
          "height": 55
        },
        "outputId": "7865aef5-c0e5-4d63-f2ea-31d01818b905"
      },
      "cell_type": "code",
      "source": [
        "score = cnn1.evaluate(X_test, y_test, verbose=0)\n",
        "print('Test loss:', score[0])\n",
        "print('Test accuracy:', score[1])\n"
      ],
      "execution_count": 0,
      "outputs": [
        {
          "output_type": "stream",
          "text": [
            "Test loss: 0.3555314741849899\n",
            "Test accuracy: 0.9035\n"
          ],
          "name": "stdout"
        }
      ]
    },
    {
      "metadata": {
        "id": "XUQzRv7-m_co",
        "colab_type": "text"
      },
      "cell_type": "markdown",
      "source": [
        "### Observation:\n",
        "*Lowering the learning rate in next iteration improved the accuracy for the same model from **89.77 % to 90.35%***"
      ]
    },
    {
      "metadata": {
        "id": "9KTRTP3Jzx-I",
        "colab_type": "code",
        "colab": {
          "base_uri": "https://localhost:8080/",
          "height": 543
        },
        "outputId": "67e08889-9398-4a96-b895-203b827e0a54"
      },
      "cell_type": "code",
      "source": [
        "accuracy = cnn1_metrics.history['acc']\n",
        "val_accuracy = cnn1_metrics.history['val_acc']\n",
        "loss = cnn1_metrics.history['loss']\n",
        "val_loss = cnn1_metrics.history['val_loss']\n",
        "epochs = range(len(accuracy))\n",
        "plt.plot(epochs, accuracy, 'bo', label='Training accuracy')\n",
        "plt.plot(epochs, val_accuracy, 'b', label='Validation accuracy')\n",
        "plt.title('Training and validation accuracy')\n",
        "plt.legend()\n",
        "plt.figure()\n",
        "plt.plot(epochs, loss, 'bo', label='Training loss')\n",
        "plt.plot(epochs, val_loss, 'b', label='Validation loss')\n",
        "plt.title('Training and validation loss')\n",
        "plt.legend()\n",
        "plt.show()"
      ],
      "execution_count": 0,
      "outputs": [
        {
          "output_type": "display_data",
          "data": {
            "image/png": "[encoded data removed]",
            "text/plain": [
              "<matplotlib.figure.Figure at 0x7efd0282df28>"
            ]
          },
          "metadata": {
            "tags": []
          }
        },
        {
          "output_type": "display_data",
          "data": {
            "image/png": "[encoded data removed]",
            "text/plain": [
              "<matplotlib.figure.Figure at 0x7efc9449c7b8>"
            ]
          },
          "metadata": {
            "tags": []
          }
        }
      ]
    },
    {
      "metadata": {
        "id": "KzS16CAnnjII",
        "colab_type": "text"
      },
      "cell_type": "markdown",
      "source": [
        "### Observation:\n",
        "Introduction of drop rate resulted in similar Validation and Training accuracy indicating:\n",
        "as it avoids weight learning by nodes\n",
        "\n",
        "*   Model is not overfitting and weights are not being memorized\n",
        "*   Model will be more generalized and will give better accuracy to other sets of data\n",
        "*   Model has a better accuracy on Validation data as acompared to training data after couple of epoch till 8th epoch\n",
        "*   Validation loss staganates after 7th epoch\n",
        "\n"
      ]
    },
    {
      "metadata": {
        "id": "nLM6JVAQ8fTu",
        "colab_type": "text"
      },
      "cell_type": "markdown",
      "source": [
        "Data **Augmentation**"
      ]
    },
    {
      "metadata": {
        "id": "88FPvxYI8eUc",
        "colab_type": "code",
        "colab": {}
      },
      "cell_type": "code",
      "source": [
        "gen = ImageDataGenerator(rotation_range=8, width_shift_range=0.08, shear_range=0.3,\n",
        "                               height_shift_range=0.08, zoom_range=0.08)\n",
        "batches = gen.flow(X_train, y_train, batch_size=batch_size)\n",
        "val_batches = gen.flow(X_val, y_val, batch_size=batch_size)\n"
      ],
      "execution_count": 0,
      "outputs": []
    },
    {
      "metadata": {
        "id": "pBlspsiX-3Xc",
        "colab_type": "code",
        "colab": {
          "base_uri": "https://localhost:8080/",
          "height": 1923
        },
        "outputId": "9884ee0a-fd29-44d1-8203-f74e8bb706cc"
      },
      "cell_type": "code",
      "source": [
        "cnn1.fit_generator(batches, steps_per_epoch=48000//batch_size, epochs=50,\n",
        "                    validation_data=val_batches, validation_steps=12000//batch_size, use_multiprocessing=True)\n"
      ],
      "execution_count": 0,
      "outputs": [
        {
          "output_type": "stream",
          "text": [
            "Epoch 1/50\n",
            "93/93 [==============================] - 16s 176ms/step - loss: 0.5448 - acc: 0.7980 - val_loss: 0.4740 - val_acc: 0.8266\n",
            "Epoch 2/50\n",
            "93/93 [==============================] - 17s 182ms/step - loss: 0.4535 - acc: 0.8286 - val_loss: 0.4331 - val_acc: 0.8385\n",
            "Epoch 3/50\n",
            "93/93 [==============================] - 17s 182ms/step - loss: 0.4305 - acc: 0.8389 - val_loss: 0.4107 - val_acc: 0.8476\n",
            "Epoch 4/50\n",
            "81/93 [=========================>....] - ETA: 1s - loss: 0.4129 - acc: 0.8457"
          ],
          "name": "stdout"
        },
        {
          "output_type": "stream",
          "text": [
            "93/93 [==============================] - 17s 181ms/step - loss: 0.4104 - acc: 0.8464 - val_loss: 0.4033 - val_acc: 0.8509\n",
            "Epoch 5/50\n",
            "93/93 [==============================] - 17s 180ms/step - loss: 0.4009 - acc: 0.8482 - val_loss: 0.3997 - val_acc: 0.8499\n",
            "Epoch 6/50\n",
            "93/93 [==============================] - 17s 179ms/step - loss: 0.3897 - acc: 0.8526 - val_loss: 0.3715 - val_acc: 0.8620\n",
            "Epoch 7/50\n",
            "93/93 [==============================] - 17s 180ms/step - loss: 0.3798 - acc: 0.8563 - val_loss: 0.3671 - val_acc: 0.8594\n",
            "Epoch 8/50\n",
            "12/93 [==>...........................] - ETA: 6s - loss: 0.3845 - acc: 0.8563"
          ],
          "name": "stdout"
        },
        {
          "output_type": "stream",
          "text": [
            "93/93 [==============================] - 17s 178ms/step - loss: 0.3740 - acc: 0.8589 - val_loss: 0.3638 - val_acc: 0.8653\n",
            "Epoch 9/50\n",
            "93/93 [==============================] - 16s 176ms/step - loss: 0.3683 - acc: 0.8595 - val_loss: 0.3639 - val_acc: 0.8620\n",
            "Epoch 10/50\n",
            "93/93 [==============================] - 16s 175ms/step - loss: 0.3631 - acc: 0.8618 - val_loss: 0.3560 - val_acc: 0.8691\n",
            "Epoch 11/50\n",
            "93/93 [==============================] - 16s 175ms/step - loss: 0.3539 - acc: 0.8664 - val_loss: 0.3552 - val_acc: 0.8679\n",
            "Epoch 12/50\n",
            " 9/93 [=>............................] - ETA: 2s - loss: 0.3784 - acc: 0.8590"
          ],
          "name": "stdout"
        },
        {
          "output_type": "stream",
          "text": [
            "93/93 [==============================] - 16s 173ms/step - loss: 0.3549 - acc: 0.8658 - val_loss: 0.3503 - val_acc: 0.8732\n",
            "Epoch 13/50\n",
            "93/93 [==============================] - 16s 172ms/step - loss: 0.3452 - acc: 0.8697 - val_loss: 0.3454 - val_acc: 0.8736\n",
            "Epoch 14/50\n",
            "93/93 [==============================] - 16s 172ms/step - loss: 0.3451 - acc: 0.8678 - val_loss: 0.3460 - val_acc: 0.8724\n",
            "Epoch 15/50\n",
            "93/93 [==============================] - 16s 173ms/step - loss: 0.3373 - acc: 0.8722 - val_loss: 0.3426 - val_acc: 0.8720\n",
            "Epoch 16/50\n",
            " 9/93 [=>............................] - ETA: 2s - loss: 0.3645 - acc: 0.8646"
          ],
          "name": "stdout"
        },
        {
          "output_type": "stream",
          "text": [
            "93/93 [==============================] - 16s 174ms/step - loss: 0.3435 - acc: 0.8710 - val_loss: 0.3446 - val_acc: 0.8753\n",
            "Epoch 17/50\n",
            "93/93 [==============================] - 16s 174ms/step - loss: 0.3355 - acc: 0.8723 - val_loss: 0.3471 - val_acc: 0.8708\n",
            "Epoch 18/50\n",
            "93/93 [==============================] - 16s 175ms/step - loss: 0.3244 - acc: 0.8765 - val_loss: 0.3393 - val_acc: 0.8740\n",
            "Epoch 19/50\n",
            "93/93 [==============================] - 16s 175ms/step - loss: 0.3335 - acc: 0.8716 - val_loss: 0.3277 - val_acc: 0.8798\n",
            "Epoch 20/50\n",
            " 7/93 [=>............................] - ETA: 2s - loss: 0.3480 - acc: 0.8691"
          ],
          "name": "stdout"
        },
        {
          "output_type": "stream",
          "text": [
            "93/93 [==============================] - 16s 175ms/step - loss: 0.3273 - acc: 0.8783 - val_loss: 0.3285 - val_acc: 0.8814\n",
            "Epoch 21/50\n",
            "93/93 [==============================] - 16s 175ms/step - loss: 0.3221 - acc: 0.8778 - val_loss: 0.3238 - val_acc: 0.8810\n",
            "Epoch 22/50\n",
            "93/93 [==============================] - 16s 176ms/step - loss: 0.3257 - acc: 0.8768 - val_loss: 0.3340 - val_acc: 0.8776\n",
            "Epoch 23/50\n",
            "93/93 [==============================] - 16s 174ms/step - loss: 0.3208 - acc: 0.8777 - val_loss: 0.3270 - val_acc: 0.8813\n",
            "Epoch 24/50\n",
            " 9/93 [=>............................] - ETA: 2s - loss: 0.3078 - acc: 0.8889"
          ],
          "name": "stdout"
        },
        {
          "output_type": "stream",
          "text": [
            "93/93 [==============================] - 16s 175ms/step - loss: 0.3238 - acc: 0.8789 - val_loss: 0.3263 - val_acc: 0.8796\n",
            "Epoch 25/50\n",
            "93/93 [==============================] - 16s 175ms/step - loss: 0.3141 - acc: 0.8791 - val_loss: 0.3276 - val_acc: 0.8773\n",
            "Epoch 26/50\n",
            "93/93 [==============================] - 16s 177ms/step - loss: 0.3148 - acc: 0.8795 - val_loss: 0.3261 - val_acc: 0.8861\n",
            "Epoch 27/50\n",
            "93/93 [==============================] - 16s 176ms/step - loss: 0.3114 - acc: 0.8813 - val_loss: 0.3165 - val_acc: 0.8827\n",
            "Epoch 28/50\n",
            " 5/93 [>.............................] - ETA: 2s - loss: 0.3078 - acc: 0.8875"
          ],
          "name": "stdout"
        },
        {
          "output_type": "stream",
          "text": [
            "93/93 [==============================] - 16s 174ms/step - loss: 0.3139 - acc: 0.8816 - val_loss: 0.3257 - val_acc: 0.8786\n",
            "Epoch 29/50\n",
            "93/93 [==============================] - 16s 176ms/step - loss: 0.3076 - acc: 0.8841 - val_loss: 0.3164 - val_acc: 0.8816\n",
            "Epoch 30/50\n",
            "93/93 [==============================] - 16s 176ms/step - loss: 0.3041 - acc: 0.8853 - val_loss: 0.3132 - val_acc: 0.8815\n",
            "Epoch 31/50\n",
            "93/93 [==============================] - 16s 174ms/step - loss: 0.3110 - acc: 0.8829 - val_loss: 0.3328 - val_acc: 0.8784\n",
            "Epoch 32/50\n",
            " 7/93 [=>............................] - ETA: 2s - loss: 0.3111 - acc: 0.8817"
          ],
          "name": "stdout"
        },
        {
          "output_type": "stream",
          "text": [
            "93/93 [==============================] - 16s 172ms/step - loss: 0.3025 - acc: 0.8851 - val_loss: 0.3122 - val_acc: 0.8873\n",
            "Epoch 33/50\n",
            "93/93 [==============================] - 16s 173ms/step - loss: 0.3029 - acc: 0.8857 - val_loss: 0.3227 - val_acc: 0.8803\n",
            "Epoch 34/50\n",
            "93/93 [==============================] - 16s 172ms/step - loss: 0.3061 - acc: 0.8842 - val_loss: 0.3132 - val_acc: 0.8818\n",
            "Epoch 35/50\n",
            "93/93 [==============================] - 16s 173ms/step - loss: 0.3002 - acc: 0.8867 - val_loss: 0.3187 - val_acc: 0.8833\n",
            "Epoch 36/50\n",
            " 9/93 [=>............................] - ETA: 2s - loss: 0.2988 - acc: 0.8864"
          ],
          "name": "stdout"
        },
        {
          "output_type": "stream",
          "text": [
            "93/93 [==============================] - 16s 176ms/step - loss: 0.2969 - acc: 0.8867 - val_loss: 0.3078 - val_acc: 0.8863\n",
            "Epoch 37/50\n",
            "93/93 [==============================] - 17s 178ms/step - loss: 0.2956 - acc: 0.8881 - val_loss: 0.3067 - val_acc: 0.8904\n",
            "Epoch 38/50\n",
            "93/93 [==============================] - 17s 185ms/step - loss: 0.2960 - acc: 0.8880 - val_loss: 0.3094 - val_acc: 0.8844\n",
            "Epoch 39/50\n",
            "93/93 [==============================] - 17s 178ms/step - loss: 0.2851 - acc: 0.8921 - val_loss: 0.3114 - val_acc: 0.8854\n",
            "Epoch 40/50\n",
            " 9/93 [=>............................] - ETA: 2s - loss: 0.3013 - acc: 0.8827"
          ],
          "name": "stdout"
        },
        {
          "output_type": "stream",
          "text": [
            "93/93 [==============================] - 16s 174ms/step - loss: 0.2919 - acc: 0.8907 - val_loss: 0.3028 - val_acc: 0.8876\n",
            "Epoch 41/50\n",
            "93/93 [==============================] - 16s 176ms/step - loss: 0.2906 - acc: 0.8899 - val_loss: 0.3048 - val_acc: 0.8908\n",
            "Epoch 42/50\n",
            "93/93 [==============================] - 16s 175ms/step - loss: 0.2910 - acc: 0.8883 - val_loss: 0.3029 - val_acc: 0.8902\n",
            "Epoch 43/50\n",
            "93/93 [==============================] - 16s 175ms/step - loss: 0.2897 - acc: 0.8893 - val_loss: 0.2999 - val_acc: 0.8928\n",
            "Epoch 44/50\n",
            " 9/93 [=>............................] - ETA: 2s - loss: 0.2715 - acc: 0.8939"
          ],
          "name": "stdout"
        },
        {
          "output_type": "stream",
          "text": [
            "93/93 [==============================] - 17s 179ms/step - loss: 0.2900 - acc: 0.8892 - val_loss: 0.3093 - val_acc: 0.8850\n",
            "Epoch 45/50\n",
            "93/93 [==============================] - 17s 182ms/step - loss: 0.2869 - acc: 0.8902 - val_loss: 0.3011 - val_acc: 0.8922\n",
            "Epoch 46/50\n",
            "93/93 [==============================] - 16s 177ms/step - loss: 0.2874 - acc: 0.8899 - val_loss: 0.3106 - val_acc: 0.8886\n",
            "Epoch 47/50\n",
            "93/93 [==============================] - 16s 173ms/step - loss: 0.2832 - acc: 0.8929 - val_loss: 0.3068 - val_acc: 0.8882\n",
            "Epoch 48/50\n",
            " 9/93 [=>............................] - ETA: 2s - loss: 0.2847 - acc: 0.8889"
          ],
          "name": "stdout"
        },
        {
          "output_type": "stream",
          "text": [
            "93/93 [==============================] - 16s 172ms/step - loss: 0.2801 - acc: 0.8914 - val_loss: 0.3105 - val_acc: 0.8888\n",
            "Epoch 49/50\n",
            "93/93 [==============================] - 16s 176ms/step - loss: 0.2828 - acc: 0.8927 - val_loss: 0.3154 - val_acc: 0.8841\n",
            "Epoch 50/50\n",
            "93/93 [==============================] - 16s 175ms/step - loss: 0.2788 - acc: 0.8960 - val_loss: 0.3165 - val_acc: 0.8887\n"
          ],
          "name": "stdout"
        },
        {
          "output_type": "execute_result",
          "data": {
            "text/plain": [
              "<keras.callbacks.History at 0x7efcc37c4978>"
            ]
          },
          "metadata": {
            "tags": []
          },
          "execution_count": 19
        }
      ]
    },
    {
      "metadata": {
        "id": "VM2OYn-KB3n-",
        "colab_type": "code",
        "colab": {
          "base_uri": "https://localhost:8080/",
          "height": 55
        },
        "outputId": "31355cb0-2e82-4eef-ba3e-901549950326"
      },
      "cell_type": "code",
      "source": [
        "score = cnn1.evaluate(X_test, y_test, verbose=0)\n",
        "print('Test loss:', score[0])\n",
        "print('Test accuracy:', score[1])\n"
      ],
      "execution_count": 0,
      "outputs": [
        {
          "output_type": "stream",
          "text": [
            "Test loss: 0.35117446608543396\n",
            "Test accuracy: 0.8912\n"
          ],
          "name": "stdout"
        }
      ]
    },
    {
      "metadata": {
        "id": "ebyfnKlrCYeg",
        "colab_type": "text"
      },
      "cell_type": "markdown",
      "source": [
        "CNN with 3 Convolutional Layers"
      ]
    },
    {
      "metadata": {
        "id": "SyXnQbfECZkg",
        "colab_type": "code",
        "colab": {}
      },
      "cell_type": "code",
      "source": [
        "cnn2 = Sequential([\n",
        "    Conv2D(32, kernel_size=(3, 3), activation='relu', input_shape=input_shape),\n",
        "    MaxPooling2D(pool_size=(2, 2)),\n",
        "    Dropout(0.2),\n",
        "\n",
        "    Conv2D(64, kernel_size=(3, 3), activation='relu'),\n",
        "    MaxPooling2D(pool_size=(2, 2)),\n",
        "    Dropout(0.2),\n",
        "\n",
        "    Conv2D(128, kernel_size=(3, 3), activation='relu'),\n",
        "    Dropout(0.2),\n",
        "\n",
        "    Flatten(),\n",
        "\n",
        "    Dense(128, activation='relu'),\n",
        "    Dropout(0.2),\n",
        "    Dense(10, activation='softmax')\n",
        "])\n"
      ],
      "execution_count": 0,
      "outputs": []
    },
    {
      "metadata": {
        "id": "C3vf08Z4C8fW",
        "colab_type": "code",
        "colab": {}
      },
      "cell_type": "code",
      "source": [
        "cnn2.compile(loss='sparse_categorical_crossentropy',\n",
        "              optimizer=Adam(lr=0.001),\n",
        "              metrics=['accuracy'])\n"
      ],
      "execution_count": 0,
      "outputs": []
    },
    {
      "metadata": {
        "id": "BwTEM_kLMdEs",
        "colab_type": "code",
        "colab": {
          "base_uri": "https://localhost:8080/",
          "height": 602
        },
        "outputId": "ee9fb7ed-4a51-4854-abc5-a4f963eb56e6"
      },
      "cell_type": "code",
      "source": [
        "cnn2.summary()"
      ],
      "execution_count": 0,
      "outputs": [
        {
          "output_type": "stream",
          "text": [
            "_________________________________________________________________\n",
            "Layer (type)                 Output Shape              Param #   \n",
            "=================================================================\n",
            "conv2d_2 (Conv2D)            (None, 26, 26, 32)        320       \n",
            "_________________________________________________________________\n",
            "max_pooling2d_2 (MaxPooling2 (None, 13, 13, 32)        0         \n",
            "_________________________________________________________________\n",
            "dropout_2 (Dropout)          (None, 13, 13, 32)        0         \n",
            "_________________________________________________________________\n",
            "conv2d_3 (Conv2D)            (None, 11, 11, 64)        18496     \n",
            "_________________________________________________________________\n",
            "max_pooling2d_3 (MaxPooling2 (None, 5, 5, 64)          0         \n",
            "_________________________________________________________________\n",
            "dropout_3 (Dropout)          (None, 5, 5, 64)          0         \n",
            "_________________________________________________________________\n",
            "conv2d_4 (Conv2D)            (None, 3, 3, 128)         73856     \n",
            "_________________________________________________________________\n",
            "dropout_4 (Dropout)          (None, 3, 3, 128)         0         \n",
            "_________________________________________________________________\n",
            "flatten_2 (Flatten)          (None, 1152)              0         \n",
            "_________________________________________________________________\n",
            "dense_3 (Dense)              (None, 128)               147584    \n",
            "_________________________________________________________________\n",
            "dropout_5 (Dropout)          (None, 128)               0         \n",
            "_________________________________________________________________\n",
            "dense_4 (Dense)              (None, 10)                1290      \n",
            "=================================================================\n",
            "Total params: 241,546\n",
            "Trainable params: 241,546\n",
            "Non-trainable params: 0\n",
            "_________________________________________________________________\n"
          ],
          "name": "stdout"
        }
      ]
    },
    {
      "metadata": {
        "id": "rG0ZuZRzC_4E",
        "colab_type": "code",
        "colab": {
          "base_uri": "https://localhost:8080/",
          "height": 413
        },
        "outputId": "4660c469-528f-427c-d913-62f6ace67b79"
      },
      "cell_type": "code",
      "source": [
        "cnn2_metrics = cnn2.fit(X_train, y_train,\n",
        "          batch_size=batch_size,\n",
        "          epochs=10,\n",
        "          verbose=1,\n",
        "          validation_data=(X_val, y_val))\n"
      ],
      "execution_count": 0,
      "outputs": [
        {
          "output_type": "stream",
          "text": [
            "Train on 48000 samples, validate on 12000 samples\n",
            "Epoch 1/10\n",
            "48000/48000 [==============================] - 4s 85us/step - loss: 2.2384 - acc: 0.5946 - val_loss: 0.5892 - val_acc: 0.7918\n",
            "Epoch 2/10\n",
            "48000/48000 [==============================] - 3s 72us/step - loss: 0.6123 - acc: 0.7724 - val_loss: 0.4827 - val_acc: 0.8302\n",
            "Epoch 3/10\n",
            "48000/48000 [==============================] - 3s 72us/step - loss: 0.5054 - acc: 0.8120 - val_loss: 0.3994 - val_acc: 0.8559\n",
            "Epoch 4/10\n",
            "48000/48000 [==============================] - 3s 71us/step - loss: 0.4466 - acc: 0.8359 - val_loss: 0.3581 - val_acc: 0.8698\n",
            "Epoch 5/10\n",
            "44544/48000 [==========================>...] - ETA: 0s - loss: 0.4124 - acc: 0.8496"
          ],
          "name": "stdout"
        },
        {
          "output_type": "stream",
          "text": [
            "48000/48000 [==============================] - 3s 72us/step - loss: 0.4096 - acc: 0.8505 - val_loss: 0.3363 - val_acc: 0.8802\n",
            "Epoch 6/10\n",
            "48000/48000 [==============================] - 3s 72us/step - loss: 0.3872 - acc: 0.8580 - val_loss: 0.3171 - val_acc: 0.8886\n",
            "Epoch 7/10\n",
            "48000/48000 [==============================] - 3s 71us/step - loss: 0.3638 - acc: 0.8664 - val_loss: 0.3054 - val_acc: 0.8918\n",
            "Epoch 8/10\n",
            "48000/48000 [==============================] - 3s 72us/step - loss: 0.3487 - acc: 0.8713 - val_loss: 0.3049 - val_acc: 0.8907\n",
            "Epoch 9/10\n",
            "48000/48000 [==============================] - 3s 72us/step - loss: 0.3345 - acc: 0.8766 - val_loss: 0.3029 - val_acc: 0.8909\n",
            "Epoch 10/10\n",
            "17920/48000 [==========>...................] - ETA: 2s - loss: 0.3280 - acc: 0.8783"
          ],
          "name": "stdout"
        },
        {
          "output_type": "stream",
          "text": [
            "48000/48000 [==============================] - 3s 71us/step - loss: 0.3273 - acc: 0.8797 - val_loss: 0.2961 - val_acc: 0.8944\n"
          ],
          "name": "stdout"
        }
      ]
    },
    {
      "metadata": {
        "id": "IZNZrpenDEhu",
        "colab_type": "code",
        "colab": {
          "base_uri": "https://localhost:8080/",
          "height": 55
        },
        "outputId": "8167db59-3c92-4337-bb55-8290fee90436"
      },
      "cell_type": "code",
      "source": [
        "score = cnn2.evaluate(X_test, y_test, verbose=0)\n",
        "print('Test loss:', score[0])\n",
        "print('Test accuracy:', score[1])"
      ],
      "execution_count": 0,
      "outputs": [
        {
          "output_type": "stream",
          "text": [
            "Test loss: 0.30229801898002623\n",
            "Test accuracy: 0.8894\n"
          ],
          "name": "stdout"
        }
      ]
    },
    {
      "metadata": {
        "id": "pWhBVdOFDUCk",
        "colab_type": "code",
        "colab": {
          "base_uri": "https://localhost:8080/",
          "height": 543
        },
        "outputId": "e5692262-29c3-47f4-81a7-86a762d3c3dd"
      },
      "cell_type": "code",
      "source": [
        "accuracy = cnn2_metrics.history['acc']\n",
        "val_accuracy = cnn2_metrics.history['val_acc']\n",
        "loss = cnn2_metrics.history['loss']\n",
        "val_loss = cnn2_metrics.history['val_loss']\n",
        "epochs = range(len(accuracy))\n",
        "plt.plot(epochs, accuracy, 'bo', label='Training accuracy')\n",
        "plt.plot(epochs, val_accuracy, 'b', label='Validation accuracy')\n",
        "plt.title('Training and validation accuracy')\n",
        "plt.legend()\n",
        "plt.figure()\n",
        "plt.plot(epochs, loss, 'bo', label='Training loss')\n",
        "plt.plot(epochs, val_loss, 'b', label='Validation loss')\n",
        "plt.title('Training and validation loss')\n",
        "plt.legend()\n",
        "plt.show()"
      ],
      "execution_count": 0,
      "outputs": [
        {
          "output_type": "display_data",
          "data": {
            "image/png": "[encoded data removed]",
            "text/plain": [
              "<matplotlib.figure.Figure at 0x7efc886e6b38>"
            ]
          },
          "metadata": {
            "tags": []
          }
        },
        {
          "output_type": "display_data",
          "data": {
            "image/png": "[encoded data removed]",
            "text/plain": [
              "<matplotlib.figure.Figure at 0x7efc887208d0>"
            ]
          },
          "metadata": {
            "tags": []
          }
        }
      ]
    },
    {
      "metadata": {
        "id": "R7GFNFFU4VlK",
        "colab_type": "text"
      },
      "cell_type": "markdown",
      "source": [
        "Data Augmentation"
      ]
    },
    {
      "metadata": {
        "id": "eoaU6NME4WwA",
        "colab_type": "code",
        "colab": {
          "base_uri": "https://localhost:8080/",
          "height": 1923
        },
        "outputId": "ce708995-13b1-4090-ebf4-aa75637a94f4"
      },
      "cell_type": "code",
      "source": [
        "cnn2.fit_generator(batches, steps_per_epoch=48000//batch_size, epochs=50,\n",
        "                    validation_data=val_batches, validation_steps=12000//batch_size, use_multiprocessing=True)\n"
      ],
      "execution_count": 0,
      "outputs": [
        {
          "output_type": "stream",
          "text": [
            "Epoch 1/50\n",
            "93/93 [==============================] - 18s 191ms/step - loss: 0.5214 - acc: 0.8055 - val_loss: 0.4236 - val_acc: 0.8442\n",
            "Epoch 2/50\n",
            "93/93 [==============================] - 18s 190ms/step - loss: 0.4679 - acc: 0.8257 - val_loss: 0.3911 - val_acc: 0.8572\n",
            "Epoch 3/50\n",
            "93/93 [==============================] - 18s 190ms/step - loss: 0.4523 - acc: 0.8299 - val_loss: 0.3887 - val_acc: 0.8558\n",
            "Epoch 4/50\n",
            "79/93 [========================>.....] - ETA: 2s - loss: 0.4408 - acc: 0.8353"
          ],
          "name": "stdout"
        },
        {
          "output_type": "stream",
          "text": [
            "93/93 [==============================] - 18s 189ms/step - loss: 0.4417 - acc: 0.8355 - val_loss: 0.3825 - val_acc: 0.8590\n",
            "Epoch 5/50\n",
            "93/93 [==============================] - 17s 187ms/step - loss: 0.4224 - acc: 0.8420 - val_loss: 0.3683 - val_acc: 0.8623\n",
            "Epoch 6/50\n",
            "93/93 [==============================] - 18s 189ms/step - loss: 0.4216 - acc: 0.8425 - val_loss: 0.3477 - val_acc: 0.8736\n",
            "Epoch 7/50\n",
            "93/93 [==============================] - 17s 186ms/step - loss: 0.4131 - acc: 0.8473 - val_loss: 0.3541 - val_acc: 0.8745\n",
            "Epoch 8/50\n",
            "11/93 [==>...........................] - ETA: 7s - loss: 0.3868 - acc: 0.8587"
          ],
          "name": "stdout"
        },
        {
          "output_type": "stream",
          "text": [
            "93/93 [==============================] - 17s 185ms/step - loss: 0.4040 - acc: 0.8494 - val_loss: 0.3370 - val_acc: 0.8747\n",
            "Epoch 9/50\n",
            "93/93 [==============================] - 17s 183ms/step - loss: 0.3956 - acc: 0.8535 - val_loss: 0.3519 - val_acc: 0.8702\n",
            "Epoch 10/50\n",
            "93/93 [==============================] - 17s 183ms/step - loss: 0.3859 - acc: 0.8546 - val_loss: 0.3400 - val_acc: 0.8757\n",
            "Epoch 11/50\n",
            "93/93 [==============================] - 17s 183ms/step - loss: 0.3823 - acc: 0.8556 - val_loss: 0.3321 - val_acc: 0.8775\n",
            "Epoch 12/50\n",
            " 5/93 [>.............................] - ETA: 3s - loss: 0.3327 - acc: 0.8688"
          ],
          "name": "stdout"
        },
        {
          "output_type": "stream",
          "text": [
            "93/93 [==============================] - 17s 181ms/step - loss: 0.3759 - acc: 0.8602 - val_loss: 0.3312 - val_acc: 0.8782\n",
            "Epoch 13/50\n",
            "93/93 [==============================] - 17s 180ms/step - loss: 0.3692 - acc: 0.8632 - val_loss: 0.3250 - val_acc: 0.8828\n",
            "Epoch 14/50\n",
            "93/93 [==============================] - 17s 181ms/step - loss: 0.3664 - acc: 0.8638 - val_loss: 0.3186 - val_acc: 0.8832\n",
            "Epoch 15/50\n",
            "93/93 [==============================] - 17s 183ms/step - loss: 0.3687 - acc: 0.8609 - val_loss: 0.3262 - val_acc: 0.8792\n",
            "Epoch 16/50\n",
            " 2/93 [..............................] - ETA: 5s - loss: 0.3745 - acc: 0.8516"
          ],
          "name": "stdout"
        },
        {
          "output_type": "stream",
          "text": [
            "93/93 [==============================] - 17s 181ms/step - loss: 0.3623 - acc: 0.8626 - val_loss: 0.3100 - val_acc: 0.8853\n",
            "Epoch 17/50\n",
            "93/93 [==============================] - 17s 178ms/step - loss: 0.3541 - acc: 0.8677 - val_loss: 0.3270 - val_acc: 0.8798\n",
            "Epoch 18/50\n",
            "93/93 [==============================] - 17s 180ms/step - loss: 0.3566 - acc: 0.8665 - val_loss: 0.3179 - val_acc: 0.8828\n",
            "Epoch 19/50\n",
            "93/93 [==============================] - 17s 181ms/step - loss: 0.3600 - acc: 0.8650 - val_loss: 0.3069 - val_acc: 0.8871\n",
            "Epoch 20/50\n",
            " 3/93 [..............................] - ETA: 4s - loss: 0.3725 - acc: 0.8704"
          ],
          "name": "stdout"
        },
        {
          "output_type": "stream",
          "text": [
            "93/93 [==============================] - 17s 179ms/step - loss: 0.3448 - acc: 0.8711 - val_loss: 0.3092 - val_acc: 0.8851\n",
            "Epoch 21/50\n",
            "93/93 [==============================] - 17s 178ms/step - loss: 0.3491 - acc: 0.8688 - val_loss: 0.3115 - val_acc: 0.8865\n",
            "Epoch 22/50\n",
            "93/93 [==============================] - 17s 179ms/step - loss: 0.3430 - acc: 0.8711 - val_loss: 0.3230 - val_acc: 0.8774\n",
            "Epoch 23/50\n",
            "93/93 [==============================] - 17s 181ms/step - loss: 0.3409 - acc: 0.8715 - val_loss: 0.3014 - val_acc: 0.8897\n",
            "Epoch 24/50\n",
            " 2/93 [..............................] - ETA: 5s - loss: 0.3301 - acc: 0.8770"
          ],
          "name": "stdout"
        },
        {
          "output_type": "stream",
          "text": [
            "93/93 [==============================] - 17s 180ms/step - loss: 0.3380 - acc: 0.8722 - val_loss: 0.3216 - val_acc: 0.8817\n",
            "Epoch 25/50\n",
            "93/93 [==============================] - 17s 181ms/step - loss: 0.3366 - acc: 0.8746 - val_loss: 0.3049 - val_acc: 0.8905\n",
            "Epoch 26/50\n",
            "93/93 [==============================] - 17s 181ms/step - loss: 0.3311 - acc: 0.8745 - val_loss: 0.3072 - val_acc: 0.8895\n",
            "Epoch 27/50\n",
            "89/93 [===========================>..] - ETA: 0s - loss: 0.3399 - acc: 0.8713"
          ],
          "name": "stdout"
        },
        {
          "output_type": "stream",
          "text": [
            "93/93 [==============================] - 17s 182ms/step - loss: 0.3392 - acc: 0.8717 - val_loss: 0.3139 - val_acc: 0.8814\n",
            "Epoch 28/50\n",
            "93/93 [==============================] - 17s 178ms/step - loss: 0.3347 - acc: 0.8741 - val_loss: 0.3048 - val_acc: 0.8899\n",
            "Epoch 29/50\n",
            "93/93 [==============================] - 17s 181ms/step - loss: 0.3291 - acc: 0.8753 - val_loss: 0.3030 - val_acc: 0.8879\n",
            "Epoch 30/50\n",
            "93/93 [==============================] - 17s 181ms/step - loss: 0.3225 - acc: 0.8800 - val_loss: 0.2891 - val_acc: 0.8923\n",
            "Epoch 31/50\n",
            "16/93 [====>.........................] - ETA: 5s - loss: 0.3292 - acc: 0.8717"
          ],
          "name": "stdout"
        },
        {
          "output_type": "stream",
          "text": [
            "93/93 [==============================] - 17s 178ms/step - loss: 0.3251 - acc: 0.8779 - val_loss: 0.2888 - val_acc: 0.8947\n",
            "Epoch 32/50\n",
            "93/93 [==============================] - 17s 179ms/step - loss: 0.3244 - acc: 0.8786 - val_loss: 0.2984 - val_acc: 0.8899\n",
            "Epoch 33/50\n",
            "93/93 [==============================] - 17s 179ms/step - loss: 0.3200 - acc: 0.8798 - val_loss: 0.2909 - val_acc: 0.8932\n",
            "Epoch 34/50\n",
            "93/93 [==============================] - 17s 180ms/step - loss: 0.3200 - acc: 0.8807 - val_loss: 0.2884 - val_acc: 0.8929\n",
            "Epoch 35/50\n",
            " 4/93 [>.............................] - ETA: 5s - loss: 0.3284 - acc: 0.8784"
          ],
          "name": "stdout"
        },
        {
          "output_type": "stream",
          "text": [
            "93/93 [==============================] - 17s 180ms/step - loss: 0.3228 - acc: 0.8782 - val_loss: 0.2878 - val_acc: 0.8951\n",
            "Epoch 36/50\n",
            "93/93 [==============================] - 17s 179ms/step - loss: 0.3224 - acc: 0.8798 - val_loss: 0.2920 - val_acc: 0.8919\n",
            "Epoch 37/50\n",
            "93/93 [==============================] - 17s 180ms/step - loss: 0.3164 - acc: 0.8785 - val_loss: 0.2882 - val_acc: 0.8950\n",
            "Epoch 38/50\n",
            "93/93 [==============================] - 17s 181ms/step - loss: 0.3147 - acc: 0.8813 - val_loss: 0.2885 - val_acc: 0.8944\n",
            "Epoch 39/50\n",
            " 1/93 [..............................] - ETA: 5s - loss: 0.2767 - acc: 0.9004"
          ],
          "name": "stdout"
        },
        {
          "output_type": "stream",
          "text": [
            "93/93 [==============================] - 17s 181ms/step - loss: 0.3112 - acc: 0.8840 - val_loss: 0.2825 - val_acc: 0.8970\n",
            "Epoch 40/50\n",
            "93/93 [==============================] - 17s 180ms/step - loss: 0.3179 - acc: 0.8813 - val_loss: 0.2924 - val_acc: 0.8922\n",
            "Epoch 41/50\n",
            "93/93 [==============================] - 17s 179ms/step - loss: 0.3137 - acc: 0.8811 - val_loss: 0.2893 - val_acc: 0.8943\n",
            "Epoch 42/50\n",
            "93/93 [==============================] - 17s 179ms/step - loss: 0.3114 - acc: 0.8834 - val_loss: 0.3045 - val_acc: 0.8893\n",
            "Epoch 43/50\n",
            " 5/93 [>.............................] - ETA: 4s - loss: 0.2895 - acc: 0.8984"
          ],
          "name": "stdout"
        },
        {
          "output_type": "stream",
          "text": [
            "93/93 [==============================] - 17s 180ms/step - loss: 0.3030 - acc: 0.8858 - val_loss: 0.2740 - val_acc: 0.8997\n",
            "Epoch 44/50\n",
            "93/93 [==============================] - 17s 179ms/step - loss: 0.3009 - acc: 0.8875 - val_loss: 0.2741 - val_acc: 0.8988\n",
            "Epoch 45/50\n",
            "93/93 [==============================] - 17s 180ms/step - loss: 0.3039 - acc: 0.8855 - val_loss: 0.2838 - val_acc: 0.8944\n",
            "Epoch 46/50\n",
            "93/93 [==============================] - 17s 181ms/step - loss: 0.3114 - acc: 0.8835 - val_loss: 0.2939 - val_acc: 0.8937\n"
          ],
          "name": "stdout"
        },
        {
          "output_type": "stream",
          "text": [
            "Epoch 47/50\n",
            "93/93 [==============================] - 17s 180ms/step - loss: 0.3027 - acc: 0.8872 - val_loss: 0.2759 - val_acc: 0.8962\n",
            "Epoch 48/50\n",
            "93/93 [==============================] - 17s 179ms/step - loss: 0.2999 - acc: 0.8879 - val_loss: 0.2857 - val_acc: 0.8919\n",
            "Epoch 49/50\n",
            "93/93 [==============================] - 17s 182ms/step - loss: 0.3072 - acc: 0.8841 - val_loss: 0.2739 - val_acc: 0.8998\n",
            "Epoch 50/50\n",
            "84/93 [==========================>...] - ETA: 1s - loss: 0.2964 - acc: 0.8873"
          ],
          "name": "stdout"
        },
        {
          "output_type": "stream",
          "text": [
            "93/93 [==============================] - 17s 178ms/step - loss: 0.2981 - acc: 0.8865 - val_loss: 0.2851 - val_acc: 0.8950\n"
          ],
          "name": "stdout"
        },
        {
          "output_type": "execute_result",
          "data": {
            "text/plain": [
              "<keras.callbacks.History at 0x7efc886ddcc0>"
            ]
          },
          "metadata": {
            "tags": []
          },
          "execution_count": 27
        }
      ]
    },
    {
      "metadata": {
        "id": "v7sqWXPk3fRO",
        "colab_type": "code",
        "colab": {
          "base_uri": "https://localhost:8080/",
          "height": 55
        },
        "outputId": "a1cb3bcc-4342-406b-aab8-27e7519cfb3c"
      },
      "cell_type": "code",
      "source": [
        "score = cnn2.evaluate(X_test, y_test, verbose=0)\n",
        "print('Test loss:', score[0])\n",
        "print('Test accuracy:', score[1])"
      ],
      "execution_count": 0,
      "outputs": [
        {
          "output_type": "stream",
          "text": [
            "Test loss: 0.27610876560211184\n",
            "Test accuracy: 0.8969\n"
          ],
          "name": "stdout"
        }
      ]
    },
    {
      "metadata": {
        "id": "oUnT9srfmE74",
        "colab_type": "text"
      },
      "cell_type": "markdown",
      "source": [
        "### Observation\n",
        "Test accuracy increased slightly to **89.69% from 88.94% **post image augmentaion."
      ]
    },
    {
      "metadata": {
        "id": "Ab9A6eU_s_S4",
        "colab_type": "code",
        "colab": {}
      },
      "cell_type": "code",
      "source": [
        "predicted_classes = cnn1.predict(X_test)"
      ],
      "execution_count": 0,
      "outputs": []
    },
    {
      "metadata": {
        "id": "fhYA3RGcrQo0",
        "colab_type": "code",
        "colab": {}
      },
      "cell_type": "code",
      "source": [
        "predicted_classes = np.argmax(np.round(predicted_classes),axis=1)"
      ],
      "execution_count": 0,
      "outputs": []
    },
    {
      "metadata": {
        "id": "ZHMTJlnKsymE",
        "colab_type": "code",
        "colab": {
          "base_uri": "https://localhost:8080/",
          "height": 36
        },
        "outputId": "a92850b0-a9e5-4886-d46e-9a5018bbaee1"
      },
      "cell_type": "code",
      "source": [
        "predicted_classes.shape, y_test.shape"
      ],
      "execution_count": 0,
      "outputs": [
        {
          "output_type": "execute_result",
          "data": {
            "text/plain": [
              "((10000,), (10000,))"
            ]
          },
          "metadata": {
            "tags": []
          },
          "execution_count": 35
        }
      ]
    },
    {
      "metadata": {
        "id": "NvZXlm2TuIDi",
        "colab_type": "code",
        "colab": {
          "base_uri": "https://localhost:8080/",
          "height": 300
        },
        "outputId": "3cd0c5dd-d250-4df2-a822-74db4b6d8ada"
      },
      "cell_type": "code",
      "source": [
        "from sklearn.metrics import classification_report\n",
        "target_names = [\"Class {}\".format(i) for i in range(10)]\n",
        "print(classification_report(y_test, predicted_classes, target_names=target_names))"
      ],
      "execution_count": 0,
      "outputs": [
        {
          "output_type": "stream",
          "text": [
            "             precision    recall  f1-score   support\n",
            "\n",
            "    Class 0       0.80      0.79      0.79      1000\n",
            "    Class 1       0.98      0.98      0.98      1000\n",
            "    Class 2       0.92      0.64      0.76      1000\n",
            "    Class 3       0.92      0.87      0.90      1000\n",
            "    Class 4       0.80      0.88      0.84      1000\n",
            "    Class 5       0.97      0.99      0.98      1000\n",
            "    Class 6       0.64      0.81      0.72      1000\n",
            "    Class 7       0.95      0.97      0.96      1000\n",
            "    Class 8       0.99      0.99      0.99      1000\n",
            "    Class 9       0.98      0.96      0.97      1000\n",
            "\n",
            "avg / total       0.90      0.89      0.89     10000\n",
            "\n"
          ],
          "name": "stdout"
        }
      ]
    },
    {
      "metadata": {
        "id": "g2oNqw6yu8rO",
        "colab_type": "text"
      },
      "cell_type": "markdown",
      "source": [
        "### Observation:\n",
        "Best performing classes are #1, #5, #7, #8 and #9"
      ]
    }
  ]
}